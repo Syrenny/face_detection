{
 "cells": [
  {
   "cell_type": "code",
   "execution_count": 1,
   "id": "6a7536cb",
   "metadata": {},
   "outputs": [],
   "source": [
    "from detector import FaceDetector\n",
    "import cv2\n",
    "import av\n",
    "from IPython.display import Video"
   ]
  },
  {
   "cell_type": "code",
   "execution_count": null,
   "id": "adb8fdff",
   "metadata": {},
   "outputs": [],
   "source": [
    "face_detector = FaceDetector(model_path='best.onnx',\n",
    "                             crops_path=\"crops/\",\n",
    "                             meta_path=\"meta/meta.json\")\n",
    "\n",
    "input_filename = \"assets/train_station.mp4\"\n",
    "output_filename = \"inference_train_station.mp4\"\n",
    "\n",
    "input_container = av.open(input_filename)\n",
    "output_container = av.open(output_filename, \"w\")\n",
    "stream = output_container.add_stream(\"h264\")\n",
    "\n",
    "frame_count = 0\n",
    "# Запись изображений в видео\n",
    "for frame in input_container.decode(video=0):\n",
    "    if frame_count > 500:\n",
    "        break\n",
    "    # Получаем изображение кадра\n",
    "    image = frame.to_ndarray(format='rgb24')\n",
    "\n",
    "    # Обрабатываем кадр с помощью детектора лиц\n",
    "    results = face_detector.update(image)\n",
    "    annotated_frame = results[0].plot()\n",
    "    frame = av.VideoFrame.from_ndarray(annotated_frame, format=\"rgb24\")\n",
    "    packet = stream.encode(frame)\n",
    "    output_container.mux(packet)\n",
    "    frame_count += 1\n",
    "# Завершение записи видео\n",
    "packet = stream.encode(None)  # Посылаем None, чтобы завершить видеопоток\n",
    "output_container.mux(packet)\n",
    "# Закрытие видеопотока\n",
    "output_container.close()\n",
    "input_container.close()\n",
    "\n",
    "print(f\"Видео сгенерировано: {output_filename}\")"
   ]
  },
  {
   "cell_type": "code",
   "execution_count": 3,
   "id": "30785926",
   "metadata": {},
   "outputs": [
    {
     "data": {
      "text/html": [
       "<video src=\"inference_train_station.mp4\" controls  width=\"990\"  height=\"360\">\n",
       "      Your browser does not support the <code>video</code> element.\n",
       "    </video>"
      ],
      "text/plain": [
       "<IPython.core.display.Video object>"
      ]
     },
     "execution_count": 3,
     "metadata": {},
     "output_type": "execute_result"
    }
   ],
   "source": [
    "Video(\"inference_train_station.mp4\", width=990, height=360)"
   ]
  }
 ],
 "metadata": {
  "kernelspec": {
   "display_name": "syrenny_kernel",
   "language": "python",
   "name": "syrenny_kernel"
  },
  "language_info": {
   "codemirror_mode": {
    "name": "ipython",
    "version": 3
   },
   "file_extension": ".py",
   "mimetype": "text/x-python",
   "name": "python",
   "nbconvert_exporter": "python",
   "pygments_lexer": "ipython3",
   "version": "3.10.12"
  }
 },
 "nbformat": 4,
 "nbformat_minor": 5
}
