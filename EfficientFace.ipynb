{
 "cells": [
  {
   "cell_type": "code",
   "execution_count": 1,
   "id": "initial_id",
   "metadata": {
    "ExecuteTime": {
     "end_time": "2024-02-20T13:20:06.445882200Z",
     "start_time": "2024-02-20T13:20:04.217377200Z"
    },
    "collapsed": true
   },
   "outputs": [
    {
     "name": "stdout",
     "output_type": "stream",
     "text": [
      "Cloning into 'EfficientFace'...\r\n",
      "remote: Enumerating objects: 119, done.\u001b[K\r\n",
      "remote: Counting objects: 100% (119/119), done.\u001b[K\r\n",
      "remote: Compressing objects: 100% (102/102), done.\u001b[K\r\n",
      "remote: Total 119 (delta 40), reused 66 (delta 10), pack-reused 0\u001b[K\r\n",
      "Receiving objects: 100% (119/119), 1.72 MiB | 3.15 MiB/s, done.\r\n",
      "Resolving deltas: 100% (40/40), done.\r\n"
     ]
    }
   ],
   "source": [
    "!git clone https://github.com/zengqunzhao/EfficientFace.git"
   ]
  },
  {
   "cell_type": "code",
   "id": "67c02ec33ca4e2bd",
   "metadata": {
    "collapsed": false
   },
   "outputs": [],
   "source": [
    "from EfficientFace.models import EfficientFace\n",
    "import torch, time\n",
    "import os\n",
    "import numpy as np\n",
    "import torchvision\n",
    "import torch.nn as nn\n",
    "import torchvision.transforms as transforms\n",
    "import torch.optim as optim"
   ]
  },
  {
   "cell_type": "code",
   "id": "53eff15709addf02",
   "metadata": {
    "collapsed": false
   },
   "outputs": [],
   "source": [
    "device = torch.device('cuda' if torch.cuda.is_available() else 'cpu')"
   ]
  },
  {
   "cell_type": "code",
   "id": "875a9aedef2da5cb",
   "metadata": {
    "collapsed": false
   },
   "outputs": [],
   "source": []
  }
 ],
 "metadata": {
  "kernelspec": {
   "display_name": "Python 3",
   "language": "python",
   "name": "python3"
  },
  "language_info": {
   "codemirror_mode": {
    "name": "ipython",
    "version": 2
   },
   "file_extension": ".py",
   "mimetype": "text/x-python",
   "name": "python",
   "nbconvert_exporter": "python",
   "pygments_lexer": "ipython2",
   "version": "2.7.6"
  }
 },
 "nbformat": 4,
 "nbformat_minor": 5
}
